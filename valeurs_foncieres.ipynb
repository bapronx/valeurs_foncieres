{
  "nbformat": 4,
  "nbformat_minor": 0,
  "metadata": {
    "colab": {
      "name": "valeurs_foncieres.ipynb",
      "version": "0.3.2",
      "provenance": [],
      "collapsed_sections": [],
      "include_colab_link": true
    },
    "kernelspec": {
      "name": "python3",
      "display_name": "Python 3"
    }
  },
  "cells": [
    {
      "cell_type": "markdown",
      "metadata": {
        "id": "view-in-github",
        "colab_type": "text"
      },
      "source": [
        "<a href=\"https://colab.research.google.com/github/bapronx/valeurs_foncieres/blob/master/valeurs_foncieres.ipynb\" target=\"_parent\"><img src=\"https://colab.research.google.com/assets/colab-badge.svg\" alt=\"Open In Colab\"/></a>"
      ]
    },
    {
      "cell_type": "markdown",
      "metadata": {
        "id": "BglqmYxEqdko",
        "colab_type": "text"
      },
      "source": [
        "#Analyse des valeurs foncières"
      ]
    },
    {
      "cell_type": "markdown",
      "metadata": {
        "id": "J5mxzoupqoqD",
        "colab_type": "text"
      },
      "source": [
        "On commence par importer les modules d'analyse et télécharger les fichiers"
      ]
    },
    {
      "cell_type": "code",
      "metadata": {
        "id": "46o0U1klHkfN",
        "colab_type": "code",
        "outputId": "e8e56aae-e229-479a-a15c-32450d3f499e",
        "colab": {
          "base_uri": "https://localhost:8080/",
          "height": 289
        }
      },
      "source": [
        "import numpy as np\n",
        "import pandas as pd\n",
        "\n",
        "!wget https://www.data.gouv.fr/fr/datasets/r/1be77ca5-dc1b-4e50-af2b-0240147e0346\n",
        "fname = \"1be77ca5-dc1b-4e50-af2b-0240147e0346\""
      ],
      "execution_count": 1,
      "outputs": [
        {
          "output_type": "stream",
          "text": [
            "--2019-06-18 08:16:24--  https://www.data.gouv.fr/fr/datasets/r/1be77ca5-dc1b-4e50-af2b-0240147e0346\n",
            "Resolving www.data.gouv.fr (www.data.gouv.fr)... 37.59.183.73\n",
            "Connecting to www.data.gouv.fr (www.data.gouv.fr)|37.59.183.73|:443... connected.\n",
            "HTTP request sent, awaiting response... 302 FOUND\n",
            "Location: https://static.data.gouv.fr/resources/demande-de-valeurs-foncieres/20190417-121621/valeursfoncieres-2018.txt [following]\n",
            "--2019-06-18 08:16:25--  https://static.data.gouv.fr/resources/demande-de-valeurs-foncieres/20190417-121621/valeursfoncieres-2018.txt\n",
            "Resolving static.data.gouv.fr (static.data.gouv.fr)... 37.59.183.73\n",
            "Connecting to static.data.gouv.fr (static.data.gouv.fr)|37.59.183.73|:443... connected.\n",
            "HTTP request sent, awaiting response... 200 OK\n",
            "Length: 311574861 (297M) [text/plain]\n",
            "Saving to: ‘1be77ca5-dc1b-4e50-af2b-0240147e0346’\n",
            "\n",
            "1be77ca5-dc1b-4e50- 100%[===================>] 297.14M  15.3MB/s    in 24s     \n",
            "\n",
            "2019-06-18 08:16:50 (12.5 MB/s) - ‘1be77ca5-dc1b-4e50-af2b-0240147e0346’ saved [311574861/311574861]\n",
            "\n"
          ],
          "name": "stdout"
        }
      ]
    },
    {
      "cell_type": "code",
      "metadata": {
        "id": "8Zs14PydIRuW",
        "colab_type": "code",
        "outputId": "c6164b86-74c6-4d62-baba-d845b0dd1041",
        "colab": {
          "base_uri": "https://localhost:8080/",
          "height": 71
        }
      },
      "source": [
        "fid = open(fname, 'r')\n",
        "df=pd.read_csv(fname,sep='|')\n",
        "fid.close()"
      ],
      "execution_count": 3,
      "outputs": [
        {
          "output_type": "stream",
          "text": [
            "/usr/local/lib/python3.6/dist-packages/IPython/core/interactiveshell.py:2718: DtypeWarning: Columns (14,18,23,24,26,28,31,32,33,41) have mixed types. Specify dtype option on import or set low_memory=False.\n",
            "  interactivity=interactivity, compiler=compiler, result=result)\n"
          ],
          "name": "stderr"
        }
      ]
    },
    {
      "cell_type": "code",
      "metadata": {
        "id": "o9Err0arIWMX",
        "colab_type": "code",
        "outputId": "8eede2bf-7578-4e7e-d1e3-c149ee2bda04",
        "colab": {
          "base_uri": "https://localhost:8080/",
          "height": 351
        }
      },
      "source": [
        "df.describe()"
      ],
      "execution_count": 4,
      "outputs": [
        {
          "output_type": "execute_result",
          "data": {
            "text/html": [
              "<div>\n",
              "<style scoped>\n",
              "    .dataframe tbody tr th:only-of-type {\n",
              "        vertical-align: middle;\n",
              "    }\n",
              "\n",
              "    .dataframe tbody tr th {\n",
              "        vertical-align: top;\n",
              "    }\n",
              "\n",
              "    .dataframe thead th {\n",
              "        text-align: right;\n",
              "    }\n",
              "</style>\n",
              "<table border=\"1\" class=\"dataframe\">\n",
              "  <thead>\n",
              "    <tr style=\"text-align: right;\">\n",
              "      <th></th>\n",
              "      <th>Code service CH</th>\n",
              "      <th>Reference document</th>\n",
              "      <th>1 Articles CGI</th>\n",
              "      <th>2 Articles CGI</th>\n",
              "      <th>3 Articles CGI</th>\n",
              "      <th>4 Articles CGI</th>\n",
              "      <th>5 Articles CGI</th>\n",
              "      <th>No disposition</th>\n",
              "      <th>No voie</th>\n",
              "      <th>Code postal</th>\n",
              "      <th>Code commune</th>\n",
              "      <th>Prefixe de section</th>\n",
              "      <th>No plan</th>\n",
              "      <th>4eme lot</th>\n",
              "      <th>Nombre de lots</th>\n",
              "      <th>Code type local</th>\n",
              "      <th>Identifiant local</th>\n",
              "      <th>Surface reelle bati</th>\n",
              "      <th>Nombre pieces principales</th>\n",
              "      <th>Surface terrain</th>\n",
              "    </tr>\n",
              "  </thead>\n",
              "  <tbody>\n",
              "    <tr>\n",
              "      <th>count</th>\n",
              "      <td>0.0</td>\n",
              "      <td>0.0</td>\n",
              "      <td>0.0</td>\n",
              "      <td>0.0</td>\n",
              "      <td>0.0</td>\n",
              "      <td>0.0</td>\n",
              "      <td>0.0</td>\n",
              "      <td>2.339002e+06</td>\n",
              "      <td>1.356897e+06</td>\n",
              "      <td>2.308188e+06</td>\n",
              "      <td>2.339002e+06</td>\n",
              "      <td>111203.000000</td>\n",
              "      <td>2.339002e+06</td>\n",
              "      <td>8309.000000</td>\n",
              "      <td>2.339002e+06</td>\n",
              "      <td>1.213684e+06</td>\n",
              "      <td>0.0</td>\n",
              "      <td>1.211836e+06</td>\n",
              "      <td>1.211836e+06</td>\n",
              "      <td>1.618178e+06</td>\n",
              "    </tr>\n",
              "    <tr>\n",
              "      <th>mean</th>\n",
              "      <td>NaN</td>\n",
              "      <td>NaN</td>\n",
              "      <td>NaN</td>\n",
              "      <td>NaN</td>\n",
              "      <td>NaN</td>\n",
              "      <td>NaN</td>\n",
              "      <td>NaN</td>\n",
              "      <td>1.261187e+00</td>\n",
              "      <td>7.400912e+02</td>\n",
              "      <td>5.130833e+04</td>\n",
              "      <td>2.127463e+02</td>\n",
              "      <td>504.649605</td>\n",
              "      <td>3.965267e+02</td>\n",
              "      <td>131.742689</td>\n",
              "      <td>3.864606e-01</td>\n",
              "      <td>1.976274e+00</td>\n",
              "      <td>NaN</td>\n",
              "      <td>8.923462e+01</td>\n",
              "      <td>2.461378e+00</td>\n",
              "      <td>3.029518e+03</td>\n",
              "    </tr>\n",
              "    <tr>\n",
              "      <th>std</th>\n",
              "      <td>NaN</td>\n",
              "      <td>NaN</td>\n",
              "      <td>NaN</td>\n",
              "      <td>NaN</td>\n",
              "      <td>NaN</td>\n",
              "      <td>NaN</td>\n",
              "      <td>NaN</td>\n",
              "      <td>5.913563e+00</td>\n",
              "      <td>2.081734e+03</td>\n",
              "      <td>2.714424e+04</td>\n",
              "      <td>1.697816e+02</td>\n",
              "      <td>323.571789</td>\n",
              "      <td>5.364715e+02</td>\n",
              "      <td>1315.703975</td>\n",
              "      <td>8.266430e-01</td>\n",
              "      <td>9.503468e-01</td>\n",
              "      <td>NaN</td>\n",
              "      <td>6.439104e+02</td>\n",
              "      <td>2.102245e+00</td>\n",
              "      <td>1.361191e+04</td>\n",
              "    </tr>\n",
              "    <tr>\n",
              "      <th>min</th>\n",
              "      <td>NaN</td>\n",
              "      <td>NaN</td>\n",
              "      <td>NaN</td>\n",
              "      <td>NaN</td>\n",
              "      <td>NaN</td>\n",
              "      <td>NaN</td>\n",
              "      <td>NaN</td>\n",
              "      <td>1.000000e+00</td>\n",
              "      <td>1.000000e+00</td>\n",
              "      <td>1.000000e+03</td>\n",
              "      <td>1.000000e+00</td>\n",
              "      <td>1.000000</td>\n",
              "      <td>1.000000e+00</td>\n",
              "      <td>2.000000</td>\n",
              "      <td>0.000000e+00</td>\n",
              "      <td>1.000000e+00</td>\n",
              "      <td>NaN</td>\n",
              "      <td>0.000000e+00</td>\n",
              "      <td>0.000000e+00</td>\n",
              "      <td>0.000000e+00</td>\n",
              "    </tr>\n",
              "    <tr>\n",
              "      <th>25%</th>\n",
              "      <td>NaN</td>\n",
              "      <td>NaN</td>\n",
              "      <td>NaN</td>\n",
              "      <td>NaN</td>\n",
              "      <td>NaN</td>\n",
              "      <td>NaN</td>\n",
              "      <td>NaN</td>\n",
              "      <td>1.000000e+00</td>\n",
              "      <td>8.000000e+00</td>\n",
              "      <td>3.110000e+04</td>\n",
              "      <td>7.700000e+01</td>\n",
              "      <td>191.000000</td>\n",
              "      <td>8.600000e+01</td>\n",
              "      <td>7.000000</td>\n",
              "      <td>0.000000e+00</td>\n",
              "      <td>1.000000e+00</td>\n",
              "      <td>NaN</td>\n",
              "      <td>1.500000e+01</td>\n",
              "      <td>0.000000e+00</td>\n",
              "      <td>2.370000e+02</td>\n",
              "    </tr>\n",
              "    <tr>\n",
              "      <th>50%</th>\n",
              "      <td>NaN</td>\n",
              "      <td>NaN</td>\n",
              "      <td>NaN</td>\n",
              "      <td>NaN</td>\n",
              "      <td>NaN</td>\n",
              "      <td>NaN</td>\n",
              "      <td>NaN</td>\n",
              "      <td>1.000000e+00</td>\n",
              "      <td>2.400000e+01</td>\n",
              "      <td>4.932000e+04</td>\n",
              "      <td>1.750000e+02</td>\n",
              "      <td>469.000000</td>\n",
              "      <td>2.220000e+02</td>\n",
              "      <td>22.000000</td>\n",
              "      <td>0.000000e+00</td>\n",
              "      <td>2.000000e+00</td>\n",
              "      <td>NaN</td>\n",
              "      <td>6.200000e+01</td>\n",
              "      <td>3.000000e+00</td>\n",
              "      <td>6.160000e+02</td>\n",
              "    </tr>\n",
              "    <tr>\n",
              "      <th>75%</th>\n",
              "      <td>NaN</td>\n",
              "      <td>NaN</td>\n",
              "      <td>NaN</td>\n",
              "      <td>NaN</td>\n",
              "      <td>NaN</td>\n",
              "      <td>NaN</td>\n",
              "      <td>NaN</td>\n",
              "      <td>1.000000e+00</td>\n",
              "      <td>8.900000e+01</td>\n",
              "      <td>7.710000e+04</td>\n",
              "      <td>3.030000e+02</td>\n",
              "      <td>831.000000</td>\n",
              "      <td>4.960000e+02</td>\n",
              "      <td>63.000000</td>\n",
              "      <td>1.000000e+00</td>\n",
              "      <td>3.000000e+00</td>\n",
              "      <td>NaN</td>\n",
              "      <td>9.500000e+01</td>\n",
              "      <td>4.000000e+00</td>\n",
              "      <td>1.874000e+03</td>\n",
              "    </tr>\n",
              "    <tr>\n",
              "      <th>max</th>\n",
              "      <td>NaN</td>\n",
              "      <td>NaN</td>\n",
              "      <td>NaN</td>\n",
              "      <td>NaN</td>\n",
              "      <td>NaN</td>\n",
              "      <td>NaN</td>\n",
              "      <td>NaN</td>\n",
              "      <td>3.620000e+02</td>\n",
              "      <td>9.999000e+03</td>\n",
              "      <td>9.749000e+04</td>\n",
              "      <td>9.090000e+02</td>\n",
              "      <td>950.000000</td>\n",
              "      <td>9.553000e+03</td>\n",
              "      <td>102093.000000</td>\n",
              "      <td>3.300000e+02</td>\n",
              "      <td>4.000000e+00</td>\n",
              "      <td>NaN</td>\n",
              "      <td>2.071340e+05</td>\n",
              "      <td>6.300000e+01</td>\n",
              "      <td>4.625500e+06</td>\n",
              "    </tr>\n",
              "  </tbody>\n",
              "</table>\n",
              "</div>"
            ],
            "text/plain": [
              "       Code service CH  ...  Surface terrain\n",
              "count              0.0  ...     1.618178e+06\n",
              "mean               NaN  ...     3.029518e+03\n",
              "std                NaN  ...     1.361191e+04\n",
              "min                NaN  ...     0.000000e+00\n",
              "25%                NaN  ...     2.370000e+02\n",
              "50%                NaN  ...     6.160000e+02\n",
              "75%                NaN  ...     1.874000e+03\n",
              "max                NaN  ...     4.625500e+06\n",
              "\n",
              "[8 rows x 20 columns]"
            ]
          },
          "metadata": {
            "tags": []
          },
          "execution_count": 4
        }
      ]
    },
    {
      "cell_type": "code",
      "metadata": {
        "id": "wUZBNzkrIc8w",
        "colab_type": "code",
        "outputId": "6601bc4c-e419-405f-d7f8-58956ed76a78",
        "colab": {
          "base_uri": "https://localhost:8080/",
          "height": 72
        }
      },
      "source": [
        "\n"
      ],
      "execution_count": 0,
      "outputs": [
        {
          "output_type": "stream",
          "text": [
            "/usr/local/lib/python3.6/dist-packages/IPython/core/interactiveshell.py:2718: DtypeWarning: Columns (14,18,23,24,26,28,31,32,33,41) have mixed types. Specify dtype option on import or set low_memory=False.\n",
            "  interactivity=interactivity, compiler=compiler, result=result)\n"
          ],
          "name": "stderr"
        }
      ]
    },
    {
      "cell_type": "code",
      "metadata": {
        "id": "T_Ytqr01IpE3",
        "colab_type": "code",
        "outputId": "6d25e3b8-ec8d-4c96-ea02-ab5e578d94c8",
        "colab": {
          "base_uri": "https://localhost:8080/",
          "height": 355
        }
      },
      "source": [
        "df.sample(5)"
      ],
      "execution_count": 0,
      "outputs": [
        {
          "output_type": "execute_result",
          "data": {
            "text/html": [
              "<div>\n",
              "<style scoped>\n",
              "    .dataframe tbody tr th:only-of-type {\n",
              "        vertical-align: middle;\n",
              "    }\n",
              "\n",
              "    .dataframe tbody tr th {\n",
              "        vertical-align: top;\n",
              "    }\n",
              "\n",
              "    .dataframe thead th {\n",
              "        text-align: right;\n",
              "    }\n",
              "</style>\n",
              "<table border=\"1\" class=\"dataframe\">\n",
              "  <thead>\n",
              "    <tr style=\"text-align: right;\">\n",
              "      <th></th>\n",
              "      <th>Code service CH</th>\n",
              "      <th>Reference document</th>\n",
              "      <th>1 Articles CGI</th>\n",
              "      <th>2 Articles CGI</th>\n",
              "      <th>3 Articles CGI</th>\n",
              "      <th>4 Articles CGI</th>\n",
              "      <th>5 Articles CGI</th>\n",
              "      <th>No disposition</th>\n",
              "      <th>Date mutation</th>\n",
              "      <th>Nature mutation</th>\n",
              "      <th>...</th>\n",
              "      <th>Surface Carrez du 5eme lot</th>\n",
              "      <th>Nombre de lots</th>\n",
              "      <th>Code type local</th>\n",
              "      <th>Type local</th>\n",
              "      <th>Identifiant local</th>\n",
              "      <th>Surface reelle bati</th>\n",
              "      <th>Nombre pieces principales</th>\n",
              "      <th>Nature culture</th>\n",
              "      <th>Nature culture speciale</th>\n",
              "      <th>Surface terrain</th>\n",
              "    </tr>\n",
              "  </thead>\n",
              "  <tbody>\n",
              "    <tr>\n",
              "      <th>954878</th>\n",
              "      <td>NaN</td>\n",
              "      <td>NaN</td>\n",
              "      <td>NaN</td>\n",
              "      <td>NaN</td>\n",
              "      <td>NaN</td>\n",
              "      <td>NaN</td>\n",
              "      <td>NaN</td>\n",
              "      <td>1</td>\n",
              "      <td>29/06/2018</td>\n",
              "      <td>Vente</td>\n",
              "      <td>...</td>\n",
              "      <td>NaN</td>\n",
              "      <td>0</td>\n",
              "      <td>2.0</td>\n",
              "      <td>Appartement</td>\n",
              "      <td>NaN</td>\n",
              "      <td>61.0</td>\n",
              "      <td>4.0</td>\n",
              "      <td>S</td>\n",
              "      <td>NaN</td>\n",
              "      <td>2701.0</td>\n",
              "    </tr>\n",
              "    <tr>\n",
              "      <th>2005956</th>\n",
              "      <td>NaN</td>\n",
              "      <td>NaN</td>\n",
              "      <td>NaN</td>\n",
              "      <td>NaN</td>\n",
              "      <td>NaN</td>\n",
              "      <td>NaN</td>\n",
              "      <td>NaN</td>\n",
              "      <td>1</td>\n",
              "      <td>30/08/2018</td>\n",
              "      <td>Vente</td>\n",
              "      <td>...</td>\n",
              "      <td>NaN</td>\n",
              "      <td>0</td>\n",
              "      <td>NaN</td>\n",
              "      <td>NaN</td>\n",
              "      <td>NaN</td>\n",
              "      <td>NaN</td>\n",
              "      <td>NaN</td>\n",
              "      <td>T</td>\n",
              "      <td>NaN</td>\n",
              "      <td>209.0</td>\n",
              "    </tr>\n",
              "    <tr>\n",
              "      <th>378879</th>\n",
              "      <td>NaN</td>\n",
              "      <td>NaN</td>\n",
              "      <td>NaN</td>\n",
              "      <td>NaN</td>\n",
              "      <td>NaN</td>\n",
              "      <td>NaN</td>\n",
              "      <td>NaN</td>\n",
              "      <td>1</td>\n",
              "      <td>09/04/2018</td>\n",
              "      <td>Vente</td>\n",
              "      <td>...</td>\n",
              "      <td>NaN</td>\n",
              "      <td>0</td>\n",
              "      <td>3.0</td>\n",
              "      <td>Dépendance</td>\n",
              "      <td>NaN</td>\n",
              "      <td>0.0</td>\n",
              "      <td>0.0</td>\n",
              "      <td>S</td>\n",
              "      <td>NaN</td>\n",
              "      <td>27.0</td>\n",
              "    </tr>\n",
              "    <tr>\n",
              "      <th>1001377</th>\n",
              "      <td>NaN</td>\n",
              "      <td>NaN</td>\n",
              "      <td>NaN</td>\n",
              "      <td>NaN</td>\n",
              "      <td>NaN</td>\n",
              "      <td>NaN</td>\n",
              "      <td>NaN</td>\n",
              "      <td>1</td>\n",
              "      <td>23/03/2018</td>\n",
              "      <td>Vente</td>\n",
              "      <td>...</td>\n",
              "      <td>NaN</td>\n",
              "      <td>0</td>\n",
              "      <td>4.0</td>\n",
              "      <td>Local industriel. commercial ou assimilé</td>\n",
              "      <td>NaN</td>\n",
              "      <td>960.0</td>\n",
              "      <td>0.0</td>\n",
              "      <td>S</td>\n",
              "      <td>NaN</td>\n",
              "      <td>3758.0</td>\n",
              "    </tr>\n",
              "    <tr>\n",
              "      <th>261754</th>\n",
              "      <td>NaN</td>\n",
              "      <td>NaN</td>\n",
              "      <td>NaN</td>\n",
              "      <td>NaN</td>\n",
              "      <td>NaN</td>\n",
              "      <td>NaN</td>\n",
              "      <td>NaN</td>\n",
              "      <td>1</td>\n",
              "      <td>26/01/2018</td>\n",
              "      <td>Echange</td>\n",
              "      <td>...</td>\n",
              "      <td>NaN</td>\n",
              "      <td>0</td>\n",
              "      <td>NaN</td>\n",
              "      <td>NaN</td>\n",
              "      <td>NaN</td>\n",
              "      <td>NaN</td>\n",
              "      <td>NaN</td>\n",
              "      <td>T</td>\n",
              "      <td>NaN</td>\n",
              "      <td>2060.0</td>\n",
              "    </tr>\n",
              "  </tbody>\n",
              "</table>\n",
              "<p>5 rows × 43 columns</p>\n",
              "</div>"
            ],
            "text/plain": [
              "         Code service CH  Reference document  1 Articles CGI  2 Articles CGI  \\\n",
              "954878               NaN                 NaN             NaN             NaN   \n",
              "2005956              NaN                 NaN             NaN             NaN   \n",
              "378879               NaN                 NaN             NaN             NaN   \n",
              "1001377              NaN                 NaN             NaN             NaN   \n",
              "261754               NaN                 NaN             NaN             NaN   \n",
              "\n",
              "         3 Articles CGI  4 Articles CGI  5 Articles CGI  No disposition  \\\n",
              "954878              NaN             NaN             NaN               1   \n",
              "2005956             NaN             NaN             NaN               1   \n",
              "378879              NaN             NaN             NaN               1   \n",
              "1001377             NaN             NaN             NaN               1   \n",
              "261754              NaN             NaN             NaN               1   \n",
              "\n",
              "        Date mutation Nature mutation  ... Surface Carrez du 5eme lot  \\\n",
              "954878     29/06/2018           Vente  ...                        NaN   \n",
              "2005956    30/08/2018           Vente  ...                        NaN   \n",
              "378879     09/04/2018           Vente  ...                        NaN   \n",
              "1001377    23/03/2018           Vente  ...                        NaN   \n",
              "261754     26/01/2018         Echange  ...                        NaN   \n",
              "\n",
              "         Nombre de lots Code type local  \\\n",
              "954878                0             2.0   \n",
              "2005956               0             NaN   \n",
              "378879                0             3.0   \n",
              "1001377               0             4.0   \n",
              "261754                0             NaN   \n",
              "\n",
              "                                       Type local Identifiant local  \\\n",
              "954878                                Appartement               NaN   \n",
              "2005956                                       NaN               NaN   \n",
              "378879                                 Dépendance               NaN   \n",
              "1001377  Local industriel. commercial ou assimilé               NaN   \n",
              "261754                                        NaN               NaN   \n",
              "\n",
              "        Surface reelle bati  Nombre pieces principales Nature culture  \\\n",
              "954878                 61.0                        4.0              S   \n",
              "2005956                 NaN                        NaN              T   \n",
              "378879                  0.0                        0.0              S   \n",
              "1001377               960.0                        0.0              S   \n",
              "261754                  NaN                        NaN              T   \n",
              "\n",
              "        Nature culture speciale  Surface terrain  \n",
              "954878                      NaN           2701.0  \n",
              "2005956                     NaN            209.0  \n",
              "378879                      NaN             27.0  \n",
              "1001377                     NaN           3758.0  \n",
              "261754                      NaN           2060.0  \n",
              "\n",
              "[5 rows x 43 columns]"
            ]
          },
          "metadata": {
            "tags": []
          },
          "execution_count": 5
        }
      ]
    },
    {
      "cell_type": "code",
      "metadata": {
        "id": "XvEdPs7nJH59",
        "colab_type": "code",
        "outputId": "52c298ee-7d46-44ae-c01e-8f8847d7ad23",
        "colab": {
          "base_uri": "https://localhost:8080/",
          "height": 243
        }
      },
      "source": [
        "df.columns"
      ],
      "execution_count": 0,
      "outputs": [
        {
          "output_type": "execute_result",
          "data": {
            "text/plain": [
              "Index(['Code service CH', 'Reference document', '1 Articles CGI',\n",
              "       '2 Articles CGI', '3 Articles CGI', '4 Articles CGI', '5 Articles CGI',\n",
              "       'No disposition', 'Date mutation', 'Nature mutation', 'Valeur fonciere',\n",
              "       'No voie', 'B/T/Q', 'Type de voie', 'Code voie', 'Voie', 'Code postal',\n",
              "       'Commune', 'Code departement', 'Code commune', 'Prefixe de section',\n",
              "       'Section', 'No plan', 'No Volume', '1er lot',\n",
              "       'Surface Carrez du 1er lot', '2eme lot', 'Surface Carrez du 2eme lot',\n",
              "       '3eme lot', 'Surface Carrez du 3eme lot', '4eme lot',\n",
              "       'Surface Carrez du 4eme lot', '5eme lot', 'Surface Carrez du 5eme lot',\n",
              "       'Nombre de lots', 'Code type local', 'Type local', 'Identifiant local',\n",
              "       'Surface reelle bati', 'Nombre pieces principales', 'Nature culture',\n",
              "       'Nature culture speciale', 'Surface terrain'],\n",
              "      dtype='object')"
            ]
          },
          "metadata": {
            "tags": []
          },
          "execution_count": 5
        }
      ]
    },
    {
      "cell_type": "code",
      "metadata": {
        "id": "TCD1wflfJgYI",
        "colab_type": "code",
        "outputId": "6bf4f4af-f78f-4697-aa9e-8098bc567799",
        "colab": {
          "base_uri": "https://localhost:8080/",
          "height": 121
        }
      },
      "source": [
        "df[\"Valeur fonciere\"].sample(5)"
      ],
      "execution_count": 0,
      "outputs": [
        {
          "output_type": "execute_result",
          "data": {
            "text/plain": [
              "865494      75000,00\n",
              "915191     150200,00\n",
              "703968     136000,00\n",
              "1818741    515000,00\n",
              "1429446    306697,00\n",
              "Name: Valeur fonciere, dtype: object"
            ]
          },
          "metadata": {
            "tags": []
          },
          "execution_count": 7
        }
      ]
    },
    {
      "cell_type": "code",
      "metadata": {
        "id": "y3MTbExjKfjH",
        "colab_type": "code",
        "colab": {}
      },
      "source": [
        "def proc(s):\n",
        "  if isinstance(s, str):\n",
        "    return float(s.replace(',', '.'))\n",
        "  else:\n",
        "    return s"
      ],
      "execution_count": 0,
      "outputs": []
    },
    {
      "cell_type": "code",
      "metadata": {
        "id": "R-VhovsgKhiE",
        "colab_type": "code",
        "colab": {}
      },
      "source": [
        "df[\"prix\"] = df[\"Valeur fonciere\"].apply(proc)"
      ],
      "execution_count": 0,
      "outputs": []
    },
    {
      "cell_type": "code",
      "metadata": {
        "id": "86vlnMkrK5s0",
        "colab_type": "code",
        "colab": {}
      },
      "source": [
        "df[\"surf\"] = df[\"Surface reelle bati\"].apply(proc)"
      ],
      "execution_count": 0,
      "outputs": []
    },
    {
      "cell_type": "code",
      "metadata": {
        "id": "fv7Wvw9HL4H2",
        "colab_type": "code",
        "outputId": "7b56822d-dd2d-4400-85b2-3bce77fd0261",
        "colab": {
          "base_uri": "https://localhost:8080/",
          "height": 307
        }
      },
      "source": [
        "df[(df[\"Type local\"]==\"Appartement\") & (df[\"Code departement\"]==75)].plot.scatter(x=\"surf\", y=\"prix\")"
      ],
      "execution_count": 0,
      "outputs": [
        {
          "output_type": "execute_result",
          "data": {
            "text/plain": [
              "<matplotlib.axes._subplots.AxesSubplot at 0x7f2249f35a58>"
            ]
          },
          "metadata": {
            "tags": []
          },
          "execution_count": 16
        },
        {
          "output_type": "display_data",
          "data": {
            "image/png": "[encoded data removed]",
            "text/plain": [
              "<Figure size 432x288 with 1 Axes>"
            ]
          },
          "metadata": {
            "tags": []
          }
        }
      ]
    },
    {
      "cell_type": "code",
      "metadata": {
        "id": "yMQhY5DJNN0y",
        "colab_type": "code",
        "outputId": "f41fab73-e74f-4e73-c434-ddd8bb19805a",
        "colab": {
          "base_uri": "https://localhost:8080/",
          "height": 316
        }
      },
      "source": [
        "df[(df[\"Type local\"]==\"Appartement\") & (df[\"Code departement\"]==75) & (df[\"surf\"]<200)].hist(column=\"surf\")"
      ],
      "execution_count": 0,
      "outputs": [
        {
          "output_type": "execute_result",
          "data": {
            "text/plain": [
              "array([[<matplotlib.axes._subplots.AxesSubplot object at 0x7f2281591390>]],\n",
              "      dtype=object)"
            ]
          },
          "metadata": {
            "tags": []
          },
          "execution_count": 17
        },
        {
          "output_type": "display_data",
          "data": {
            "image/png": "[encoded data removed]",
            "text/plain": [
              "<Figure size 432x288 with 1 Axes>"
            ]
          },
          "metadata": {
            "tags": []
          }
        }
      ]
    },
    {
      "cell_type": "code",
      "metadata": {
        "id": "S2FdB1bVNonL",
        "colab_type": "code",
        "outputId": "fae6219d-8ef7-4a81-f3dc-871cb3fdf010",
        "colab": {
          "base_uri": "https://localhost:8080/",
          "height": 355
        }
      },
      "source": [
        "df[(df[\"Type local\"]==\"Appartement\") & (df[\"Code departement\"]==75) & (df[\"surf\"]<200)].describe()"
      ],
      "execution_count": 0,
      "outputs": [
        {
          "output_type": "execute_result",
          "data": {
            "text/html": [
              "<div>\n",
              "<style scoped>\n",
              "    .dataframe tbody tr th:only-of-type {\n",
              "        vertical-align: middle;\n",
              "    }\n",
              "\n",
              "    .dataframe tbody tr th {\n",
              "        vertical-align: top;\n",
              "    }\n",
              "\n",
              "    .dataframe thead th {\n",
              "        text-align: right;\n",
              "    }\n",
              "</style>\n",
              "<table border=\"1\" class=\"dataframe\">\n",
              "  <thead>\n",
              "    <tr style=\"text-align: right;\">\n",
              "      <th></th>\n",
              "      <th>Code service CH</th>\n",
              "      <th>Reference document</th>\n",
              "      <th>1 Articles CGI</th>\n",
              "      <th>2 Articles CGI</th>\n",
              "      <th>3 Articles CGI</th>\n",
              "      <th>4 Articles CGI</th>\n",
              "      <th>5 Articles CGI</th>\n",
              "      <th>No disposition</th>\n",
              "      <th>No voie</th>\n",
              "      <th>Code postal</th>\n",
              "      <th>Code commune</th>\n",
              "      <th>Prefixe de section</th>\n",
              "      <th>No plan</th>\n",
              "      <th>4eme lot</th>\n",
              "      <th>Nombre de lots</th>\n",
              "      <th>Code type local</th>\n",
              "      <th>Identifiant local</th>\n",
              "      <th>Surface reelle bati</th>\n",
              "      <th>Nombre pieces principales</th>\n",
              "      <th>Surface terrain</th>\n",
              "      <th>prix</th>\n",
              "      <th>surf</th>\n",
              "    </tr>\n",
              "  </thead>\n",
              "  <tbody>\n",
              "    <tr>\n",
              "      <th>count</th>\n",
              "      <td>0.0</td>\n",
              "      <td>0.0</td>\n",
              "      <td>0.0</td>\n",
              "      <td>0.0</td>\n",
              "      <td>0.0</td>\n",
              "      <td>0.0</td>\n",
              "      <td>0.0</td>\n",
              "      <td>30414.000000</td>\n",
              "      <td>30414.000000</td>\n",
              "      <td>30414.000000</td>\n",
              "      <td>30414.000000</td>\n",
              "      <td>0.0</td>\n",
              "      <td>30414.000000</td>\n",
              "      <td>717.000000</td>\n",
              "      <td>30414.000000</td>\n",
              "      <td>30414.0</td>\n",
              "      <td>0.0</td>\n",
              "      <td>30414.000000</td>\n",
              "      <td>30414.000000</td>\n",
              "      <td>2793.000000</td>\n",
              "      <td>3.036900e+04</td>\n",
              "      <td>30414.000000</td>\n",
              "    </tr>\n",
              "    <tr>\n",
              "      <th>mean</th>\n",
              "      <td>NaN</td>\n",
              "      <td>NaN</td>\n",
              "      <td>NaN</td>\n",
              "      <td>NaN</td>\n",
              "      <td>NaN</td>\n",
              "      <td>NaN</td>\n",
              "      <td>NaN</td>\n",
              "      <td>1.015322</td>\n",
              "      <td>48.164562</td>\n",
              "      <td>75013.343296</td>\n",
              "      <td>113.343296</td>\n",
              "      <td>NaN</td>\n",
              "      <td>51.481357</td>\n",
              "      <td>252.223152</td>\n",
              "      <td>1.502532</td>\n",
              "      <td>2.0</td>\n",
              "      <td>NaN</td>\n",
              "      <td>50.061945</td>\n",
              "      <td>2.326166</td>\n",
              "      <td>849.348013</td>\n",
              "      <td>2.281709e+06</td>\n",
              "      <td>50.061945</td>\n",
              "    </tr>\n",
              "    <tr>\n",
              "      <th>std</th>\n",
              "      <td>NaN</td>\n",
              "      <td>NaN</td>\n",
              "      <td>NaN</td>\n",
              "      <td>NaN</td>\n",
              "      <td>NaN</td>\n",
              "      <td>NaN</td>\n",
              "      <td>NaN</td>\n",
              "      <td>0.149403</td>\n",
              "      <td>55.029548</td>\n",
              "      <td>5.261350</td>\n",
              "      <td>5.261350</td>\n",
              "      <td>NaN</td>\n",
              "      <td>43.178279</td>\n",
              "      <td>1368.337177</td>\n",
              "      <td>0.904569</td>\n",
              "      <td>0.0</td>\n",
              "      <td>NaN</td>\n",
              "      <td>33.297366</td>\n",
              "      <td>1.214513</td>\n",
              "      <td>983.875576</td>\n",
              "      <td>1.129017e+07</td>\n",
              "      <td>33.297366</td>\n",
              "    </tr>\n",
              "    <tr>\n",
              "      <th>min</th>\n",
              "      <td>NaN</td>\n",
              "      <td>NaN</td>\n",
              "      <td>NaN</td>\n",
              "      <td>NaN</td>\n",
              "      <td>NaN</td>\n",
              "      <td>NaN</td>\n",
              "      <td>NaN</td>\n",
              "      <td>1.000000</td>\n",
              "      <td>1.000000</td>\n",
              "      <td>75001.000000</td>\n",
              "      <td>101.000000</td>\n",
              "      <td>NaN</td>\n",
              "      <td>1.000000</td>\n",
              "      <td>2.000000</td>\n",
              "      <td>0.000000</td>\n",
              "      <td>2.0</td>\n",
              "      <td>NaN</td>\n",
              "      <td>2.000000</td>\n",
              "      <td>0.000000</td>\n",
              "      <td>51.000000</td>\n",
              "      <td>1.000000e+00</td>\n",
              "      <td>2.000000</td>\n",
              "    </tr>\n",
              "    <tr>\n",
              "      <th>25%</th>\n",
              "      <td>NaN</td>\n",
              "      <td>NaN</td>\n",
              "      <td>NaN</td>\n",
              "      <td>NaN</td>\n",
              "      <td>NaN</td>\n",
              "      <td>NaN</td>\n",
              "      <td>NaN</td>\n",
              "      <td>1.000000</td>\n",
              "      <td>11.000000</td>\n",
              "      <td>75010.000000</td>\n",
              "      <td>110.000000</td>\n",
              "      <td>NaN</td>\n",
              "      <td>18.000000</td>\n",
              "      <td>23.000000</td>\n",
              "      <td>1.000000</td>\n",
              "      <td>2.0</td>\n",
              "      <td>NaN</td>\n",
              "      <td>27.000000</td>\n",
              "      <td>1.000000</td>\n",
              "      <td>261.000000</td>\n",
              "      <td>2.420000e+05</td>\n",
              "      <td>27.000000</td>\n",
              "    </tr>\n",
              "    <tr>\n",
              "      <th>50%</th>\n",
              "      <td>NaN</td>\n",
              "      <td>NaN</td>\n",
              "      <td>NaN</td>\n",
              "      <td>NaN</td>\n",
              "      <td>NaN</td>\n",
              "      <td>NaN</td>\n",
              "      <td>NaN</td>\n",
              "      <td>1.000000</td>\n",
              "      <td>27.000000</td>\n",
              "      <td>75014.000000</td>\n",
              "      <td>114.000000</td>\n",
              "      <td>NaN</td>\n",
              "      <td>41.000000</td>\n",
              "      <td>44.000000</td>\n",
              "      <td>1.000000</td>\n",
              "      <td>2.0</td>\n",
              "      <td>NaN</td>\n",
              "      <td>41.000000</td>\n",
              "      <td>2.000000</td>\n",
              "      <td>486.000000</td>\n",
              "      <td>4.150000e+05</td>\n",
              "      <td>41.000000</td>\n",
              "    </tr>\n",
              "    <tr>\n",
              "      <th>75%</th>\n",
              "      <td>NaN</td>\n",
              "      <td>NaN</td>\n",
              "      <td>NaN</td>\n",
              "      <td>NaN</td>\n",
              "      <td>NaN</td>\n",
              "      <td>NaN</td>\n",
              "      <td>NaN</td>\n",
              "      <td>1.000000</td>\n",
              "      <td>65.000000</td>\n",
              "      <td>75018.000000</td>\n",
              "      <td>118.000000</td>\n",
              "      <td>NaN</td>\n",
              "      <td>73.000000</td>\n",
              "      <td>82.000000</td>\n",
              "      <td>2.000000</td>\n",
              "      <td>2.0</td>\n",
              "      <td>NaN</td>\n",
              "      <td>65.000000</td>\n",
              "      <td>3.000000</td>\n",
              "      <td>1228.000000</td>\n",
              "      <td>7.869300e+05</td>\n",
              "      <td>65.000000</td>\n",
              "    </tr>\n",
              "    <tr>\n",
              "      <th>max</th>\n",
              "      <td>NaN</td>\n",
              "      <td>NaN</td>\n",
              "      <td>NaN</td>\n",
              "      <td>NaN</td>\n",
              "      <td>NaN</td>\n",
              "      <td>NaN</td>\n",
              "      <td>NaN</td>\n",
              "      <td>7.000000</td>\n",
              "      <td>420.000000</td>\n",
              "      <td>75020.000000</td>\n",
              "      <td>120.000000</td>\n",
              "      <td>NaN</td>\n",
              "      <td>747.000000</td>\n",
              "      <td>11370.000000</td>\n",
              "      <td>19.000000</td>\n",
              "      <td>2.0</td>\n",
              "      <td>NaN</td>\n",
              "      <td>199.000000</td>\n",
              "      <td>26.000000</td>\n",
              "      <td>5751.000000</td>\n",
              "      <td>3.106000e+08</td>\n",
              "      <td>199.000000</td>\n",
              "    </tr>\n",
              "  </tbody>\n",
              "</table>\n",
              "</div>"
            ],
            "text/plain": [
              "       Code service CH  Reference document  ...          prix          surf\n",
              "count              0.0                 0.0  ...  3.036900e+04  30414.000000\n",
              "mean               NaN                 NaN  ...  2.281709e+06     50.061945\n",
              "std                NaN                 NaN  ...  1.129017e+07     33.297366\n",
              "min                NaN                 NaN  ...  1.000000e+00      2.000000\n",
              "25%                NaN                 NaN  ...  2.420000e+05     27.000000\n",
              "50%                NaN                 NaN  ...  4.150000e+05     41.000000\n",
              "75%                NaN                 NaN  ...  7.869300e+05     65.000000\n",
              "max                NaN                 NaN  ...  3.106000e+08    199.000000\n",
              "\n",
              "[8 rows x 22 columns]"
            ]
          },
          "metadata": {
            "tags": []
          },
          "execution_count": 18
        }
      ]
    },
    {
      "cell_type": "code",
      "metadata": {
        "id": "_ZWUyR8bNtHR",
        "colab_type": "code",
        "outputId": "620d3f09-6c4a-4684-a6b1-8cdeebc7607f",
        "colab": {
          "base_uri": "https://localhost:8080/",
          "height": 300
        }
      },
      "source": [
        "df[selec].plot.scatter(x=\"surf\", y=\"prix\")"
      ],
      "execution_count": 0,
      "outputs": [
        {
          "output_type": "execute_result",
          "data": {
            "text/plain": [
              "<matplotlib.axes._subplots.AxesSubplot at 0x7fa4bfd97470>"
            ]
          },
          "metadata": {
            "tags": []
          },
          "execution_count": 20
        },
        {
          "output_type": "display_data",
          "data": {
            "image/png": "[encoded data removed]",
            "text/plain": [
              "<Figure size 432x288 with 1 Axes>"
            ]
          },
          "metadata": {
            "tags": []
          }
        }
      ]
    },
    {
      "cell_type": "code",
      "metadata": {
        "id": "dRrbI6G-Ob6T",
        "colab_type": "code",
        "colab": {}
      },
      "source": [
        "selec = (df[\"Type local\"]==\"Appartement\") & (df[\"Code departement\"]==75) & (df[\"surf\"]<200) & (df[\"prix\"]<4e6) & (df[\"surf\"]>20) & (df[\"prix\"]>4e3)"
      ],
      "execution_count": 0,
      "outputs": []
    },
    {
      "cell_type": "code",
      "metadata": {
        "id": "DkQ2SbIHOqZL",
        "colab_type": "code",
        "outputId": "ddd4cf78-edae-4c58-ff36-a13a6da8a7a3",
        "colab": {
          "base_uri": "https://localhost:8080/",
          "height": 355
        }
      },
      "source": [
        "df[selec].describe()"
      ],
      "execution_count": 0,
      "outputs": [
        {
          "output_type": "execute_result",
          "data": {
            "text/html": [
              "<div>\n",
              "<style scoped>\n",
              "    .dataframe tbody tr th:only-of-type {\n",
              "        vertical-align: middle;\n",
              "    }\n",
              "\n",
              "    .dataframe tbody tr th {\n",
              "        vertical-align: top;\n",
              "    }\n",
              "\n",
              "    .dataframe thead th {\n",
              "        text-align: right;\n",
              "    }\n",
              "</style>\n",
              "<table border=\"1\" class=\"dataframe\">\n",
              "  <thead>\n",
              "    <tr style=\"text-align: right;\">\n",
              "      <th></th>\n",
              "      <th>Code service CH</th>\n",
              "      <th>Reference document</th>\n",
              "      <th>1 Articles CGI</th>\n",
              "      <th>2 Articles CGI</th>\n",
              "      <th>3 Articles CGI</th>\n",
              "      <th>4 Articles CGI</th>\n",
              "      <th>5 Articles CGI</th>\n",
              "      <th>No disposition</th>\n",
              "      <th>No voie</th>\n",
              "      <th>Code postal</th>\n",
              "      <th>Code commune</th>\n",
              "      <th>Prefixe de section</th>\n",
              "      <th>No plan</th>\n",
              "      <th>4eme lot</th>\n",
              "      <th>Nombre de lots</th>\n",
              "      <th>Code type local</th>\n",
              "      <th>Identifiant local</th>\n",
              "      <th>Surface reelle bati</th>\n",
              "      <th>Nombre pieces principales</th>\n",
              "      <th>Surface terrain</th>\n",
              "      <th>prix</th>\n",
              "      <th>surf</th>\n",
              "    </tr>\n",
              "  </thead>\n",
              "  <tbody>\n",
              "    <tr>\n",
              "      <th>count</th>\n",
              "      <td>0.0</td>\n",
              "      <td>0.0</td>\n",
              "      <td>0.0</td>\n",
              "      <td>0.0</td>\n",
              "      <td>0.0</td>\n",
              "      <td>0.0</td>\n",
              "      <td>0.0</td>\n",
              "      <td>23543.000000</td>\n",
              "      <td>23543.000000</td>\n",
              "      <td>23543.000000</td>\n",
              "      <td>23543.000000</td>\n",
              "      <td>0.0</td>\n",
              "      <td>23543.000000</td>\n",
              "      <td>685.000000</td>\n",
              "      <td>23543.000000</td>\n",
              "      <td>23543.0</td>\n",
              "      <td>0.0</td>\n",
              "      <td>23543.000000</td>\n",
              "      <td>23543.000000</td>\n",
              "      <td>684.000000</td>\n",
              "      <td>2.354300e+04</td>\n",
              "      <td>23543.000000</td>\n",
              "    </tr>\n",
              "    <tr>\n",
              "      <th>mean</th>\n",
              "      <td>NaN</td>\n",
              "      <td>NaN</td>\n",
              "      <td>NaN</td>\n",
              "      <td>NaN</td>\n",
              "      <td>NaN</td>\n",
              "      <td>NaN</td>\n",
              "      <td>NaN</td>\n",
              "      <td>1.012275</td>\n",
              "      <td>48.122329</td>\n",
              "      <td>75013.505586</td>\n",
              "      <td>113.505586</td>\n",
              "      <td>NaN</td>\n",
              "      <td>50.707302</td>\n",
              "      <td>260.839416</td>\n",
              "      <td>1.684620</td>\n",
              "      <td>2.0</td>\n",
              "      <td>NaN</td>\n",
              "      <td>55.692180</td>\n",
              "      <td>2.525167</td>\n",
              "      <td>546.440058</td>\n",
              "      <td>6.146326e+05</td>\n",
              "      <td>55.692180</td>\n",
              "    </tr>\n",
              "    <tr>\n",
              "      <th>std</th>\n",
              "      <td>NaN</td>\n",
              "      <td>NaN</td>\n",
              "      <td>NaN</td>\n",
              "      <td>NaN</td>\n",
              "      <td>NaN</td>\n",
              "      <td>NaN</td>\n",
              "      <td>NaN</td>\n",
              "      <td>0.143006</td>\n",
              "      <td>54.722291</td>\n",
              "      <td>5.233804</td>\n",
              "      <td>5.233804</td>\n",
              "      <td>NaN</td>\n",
              "      <td>43.126878</td>\n",
              "      <td>1399.304422</td>\n",
              "      <td>0.854292</td>\n",
              "      <td>0.0</td>\n",
              "      <td>NaN</td>\n",
              "      <td>31.924851</td>\n",
              "      <td>1.163012</td>\n",
              "      <td>510.105281</td>\n",
              "      <td>5.452287e+05</td>\n",
              "      <td>31.924851</td>\n",
              "    </tr>\n",
              "    <tr>\n",
              "      <th>min</th>\n",
              "      <td>NaN</td>\n",
              "      <td>NaN</td>\n",
              "      <td>NaN</td>\n",
              "      <td>NaN</td>\n",
              "      <td>NaN</td>\n",
              "      <td>NaN</td>\n",
              "      <td>NaN</td>\n",
              "      <td>1.000000</td>\n",
              "      <td>1.000000</td>\n",
              "      <td>75001.000000</td>\n",
              "      <td>101.000000</td>\n",
              "      <td>NaN</td>\n",
              "      <td>1.000000</td>\n",
              "      <td>2.000000</td>\n",
              "      <td>0.000000</td>\n",
              "      <td>2.0</td>\n",
              "      <td>NaN</td>\n",
              "      <td>21.000000</td>\n",
              "      <td>0.000000</td>\n",
              "      <td>51.000000</td>\n",
              "      <td>4.200000e+03</td>\n",
              "      <td>21.000000</td>\n",
              "    </tr>\n",
              "    <tr>\n",
              "      <th>25%</th>\n",
              "      <td>NaN</td>\n",
              "      <td>NaN</td>\n",
              "      <td>NaN</td>\n",
              "      <td>NaN</td>\n",
              "      <td>NaN</td>\n",
              "      <td>NaN</td>\n",
              "      <td>NaN</td>\n",
              "      <td>1.000000</td>\n",
              "      <td>11.000000</td>\n",
              "      <td>75010.000000</td>\n",
              "      <td>110.000000</td>\n",
              "      <td>NaN</td>\n",
              "      <td>18.000000</td>\n",
              "      <td>23.000000</td>\n",
              "      <td>1.000000</td>\n",
              "      <td>2.0</td>\n",
              "      <td>NaN</td>\n",
              "      <td>32.000000</td>\n",
              "      <td>2.000000</td>\n",
              "      <td>195.000000</td>\n",
              "      <td>2.884300e+05</td>\n",
              "      <td>32.000000</td>\n",
              "    </tr>\n",
              "    <tr>\n",
              "      <th>50%</th>\n",
              "      <td>NaN</td>\n",
              "      <td>NaN</td>\n",
              "      <td>NaN</td>\n",
              "      <td>NaN</td>\n",
              "      <td>NaN</td>\n",
              "      <td>NaN</td>\n",
              "      <td>NaN</td>\n",
              "      <td>1.000000</td>\n",
              "      <td>28.000000</td>\n",
              "      <td>75014.000000</td>\n",
              "      <td>114.000000</td>\n",
              "      <td>NaN</td>\n",
              "      <td>40.000000</td>\n",
              "      <td>44.000000</td>\n",
              "      <td>2.000000</td>\n",
              "      <td>2.0</td>\n",
              "      <td>NaN</td>\n",
              "      <td>46.000000</td>\n",
              "      <td>2.000000</td>\n",
              "      <td>296.000000</td>\n",
              "      <td>4.400000e+05</td>\n",
              "      <td>46.000000</td>\n",
              "    </tr>\n",
              "    <tr>\n",
              "      <th>75%</th>\n",
              "      <td>NaN</td>\n",
              "      <td>NaN</td>\n",
              "      <td>NaN</td>\n",
              "      <td>NaN</td>\n",
              "      <td>NaN</td>\n",
              "      <td>NaN</td>\n",
              "      <td>NaN</td>\n",
              "      <td>1.000000</td>\n",
              "      <td>64.500000</td>\n",
              "      <td>75018.000000</td>\n",
              "      <td>118.000000</td>\n",
              "      <td>NaN</td>\n",
              "      <td>73.000000</td>\n",
              "      <td>81.000000</td>\n",
              "      <td>2.000000</td>\n",
              "      <td>2.0</td>\n",
              "      <td>NaN</td>\n",
              "      <td>69.000000</td>\n",
              "      <td>3.000000</td>\n",
              "      <td>616.000000</td>\n",
              "      <td>7.250000e+05</td>\n",
              "      <td>69.000000</td>\n",
              "    </tr>\n",
              "    <tr>\n",
              "      <th>max</th>\n",
              "      <td>NaN</td>\n",
              "      <td>NaN</td>\n",
              "      <td>NaN</td>\n",
              "      <td>NaN</td>\n",
              "      <td>NaN</td>\n",
              "      <td>NaN</td>\n",
              "      <td>NaN</td>\n",
              "      <td>7.000000</td>\n",
              "      <td>416.000000</td>\n",
              "      <td>75020.000000</td>\n",
              "      <td>120.000000</td>\n",
              "      <td>NaN</td>\n",
              "      <td>747.000000</td>\n",
              "      <td>11370.000000</td>\n",
              "      <td>15.000000</td>\n",
              "      <td>2.0</td>\n",
              "      <td>NaN</td>\n",
              "      <td>199.000000</td>\n",
              "      <td>20.000000</td>\n",
              "      <td>1908.000000</td>\n",
              "      <td>3.990000e+06</td>\n",
              "      <td>199.000000</td>\n",
              "    </tr>\n",
              "  </tbody>\n",
              "</table>\n",
              "</div>"
            ],
            "text/plain": [
              "       Code service CH  Reference document  ...          prix          surf\n",
              "count              0.0                 0.0  ...  2.354300e+04  23543.000000\n",
              "mean               NaN                 NaN  ...  6.146326e+05     55.692180\n",
              "std                NaN                 NaN  ...  5.452287e+05     31.924851\n",
              "min                NaN                 NaN  ...  4.200000e+03     21.000000\n",
              "25%                NaN                 NaN  ...  2.884300e+05     32.000000\n",
              "50%                NaN                 NaN  ...  4.400000e+05     46.000000\n",
              "75%                NaN                 NaN  ...  7.250000e+05     69.000000\n",
              "max                NaN                 NaN  ...  3.990000e+06    199.000000\n",
              "\n",
              "[8 rows x 22 columns]"
            ]
          },
          "metadata": {
            "tags": []
          },
          "execution_count": 22
        }
      ]
    },
    {
      "cell_type": "code",
      "metadata": {
        "id": "aqcPgCAMOu4R",
        "colab_type": "code",
        "colab": {}
      },
      "source": [
        "\n",
        "df[\"prix au m2\"] = df[\"prix\"] / df[\"surf\"]"
      ],
      "execution_count": 0,
      "outputs": []
    },
    {
      "cell_type": "code",
      "metadata": {
        "id": "wGhUwPwg-P5Y",
        "colab_type": "code",
        "outputId": "6970e421-e4b2-4225-d5c4-84f433e5471b",
        "colab": {
          "base_uri": "https://localhost:8080/",
          "height": 286
        }
      },
      "source": [
        "selec2 = (df[\"Type local\"]==\"Appartement\") & (df[\"Code departement\"]==75) \n",
        "remove_out(df[\"prix au m2\"][selec]).hist()"
      ],
      "execution_count": 0,
      "outputs": [
        {
          "output_type": "execute_result",
          "data": {
            "text/plain": [
              "<matplotlib.axes._subplots.AxesSubplot at 0x7f22814d62b0>"
            ]
          },
          "metadata": {
            "tags": []
          },
          "execution_count": 28
        },
        {
          "output_type": "display_data",
          "data": {
            "image/png": "[encoded data removed]",
            "text/plain": [
              "<Figure size 432x288 with 1 Axes>"
            ]
          },
          "metadata": {
            "tags": []
          }
        }
      ]
    },
    {
      "cell_type": "code",
      "metadata": {
        "id": "94JwhExU-X9B",
        "colab_type": "code",
        "colab": {}
      },
      "source": [
        "def remove_out(d):\n",
        "  m = d.median()\n",
        "  s = np.abs(d-m).median()\n",
        "  selec = (d<=(m+2*s)) & (d>=(m-2*s))\n",
        "  return d[selec]\n",
        "  "
      ],
      "execution_count": 0,
      "outputs": []
    },
    {
      "cell_type": "code",
      "metadata": {
        "id": "TvcVuV3v-kz0",
        "colab_type": "code",
        "colab": {}
      },
      "source": [
        "import numpy as np"
      ],
      "execution_count": 0,
      "outputs": []
    },
    {
      "cell_type": "code",
      "metadata": {
        "id": "LBLqhcBd-n8J",
        "colab_type": "code",
        "outputId": "b220a084-8508-40a3-9e27-b142cea8e2f1",
        "colab": {
          "base_uri": "https://localhost:8080/",
          "height": 173
        }
      },
      "source": [
        "df[\"prix au m2\"][selec].describe()"
      ],
      "execution_count": 0,
      "outputs": [
        {
          "output_type": "execute_result",
          "data": {
            "text/plain": [
              "count     23543.000000\n",
              "mean      11598.581278\n",
              "std       11868.366115\n",
              "min          29.239766\n",
              "25%        7909.090909\n",
              "50%        9512.195122\n",
              "75%       11497.624945\n",
              "max      171428.571429\n",
              "Name: prix au m2, dtype: float64"
            ]
          },
          "metadata": {
            "tags": []
          },
          "execution_count": 29
        }
      ]
    },
    {
      "cell_type": "code",
      "metadata": {
        "id": "ljv_7iTi-w95",
        "colab_type": "code",
        "outputId": "903a3ac7-4c00-4c5c-f395-a245e2edfefb",
        "colab": {
          "base_uri": "https://localhost:8080/",
          "height": 173
        }
      },
      "source": [
        "remove_out(df[\"prix au m2\"][selec]).describe()"
      ],
      "execution_count": 0,
      "outputs": [
        {
          "output_type": "execute_result",
          "data": {
            "text/plain": [
              "count    17891.000000\n",
              "mean      9390.036177\n",
              "std       1683.822131\n",
              "min       6000.000000\n",
              "25%       8108.893281\n",
              "50%       9312.222222\n",
              "75%      10652.173913\n",
              "max      13029.197080\n",
              "Name: prix au m2, dtype: float64"
            ]
          },
          "metadata": {
            "tags": []
          },
          "execution_count": 32
        }
      ]
    },
    {
      "cell_type": "code",
      "metadata": {
        "id": "PdpK1BFr-_tJ",
        "colab_type": "code",
        "colab": {}
      },
      "source": [
        ""
      ],
      "execution_count": 0,
      "outputs": []
    },
    {
      "cell_type": "code",
      "metadata": {
        "id": "_ofzeiwo_BWq",
        "colab_type": "code",
        "outputId": "3a0742e3-cd3a-4f99-9747-740ccabd5479",
        "colab": {
          "base_uri": "https://localhost:8080/",
          "height": 1071
        }
      },
      "source": [
        "remove_out(df[\"prix au m2\"][selec])"
      ],
      "execution_count": 0,
      "outputs": [
        {
          "output_type": "execute_result",
          "data": {
            "text/plain": [
              "2289411    10016.666667\n",
              "2289412     5909.090909\n",
              "2289416     6770.833333\n",
              "2289419    10222.222222\n",
              "2289421     9678.571429\n",
              "2289422    12333.333333\n",
              "2289423     5595.238095\n",
              "2289426     8898.305085\n",
              "2289439     8322.916667\n",
              "2289441    12769.230769\n",
              "2289444    13764.705882\n",
              "2289447    11785.714286\n",
              "2289450     8207.317073\n",
              "2289455     8470.588235\n",
              "2289460     8750.000000\n",
              "2289463    11540.000000\n",
              "2289465    11326.530612\n",
              "2289467     9000.000000\n",
              "2289468    10858.585859\n",
              "2289469    11194.029851\n",
              "2289470     9892.857143\n",
              "2289471    11158.380645\n",
              "2289474     7828.905405\n",
              "2289477     9750.000000\n",
              "2289478    12087.912088\n",
              "2289481    11186.390533\n",
              "2289482    11666.666667\n",
              "2289484    10000.000000\n",
              "2289495    11333.333333\n",
              "2289496    10666.666667\n",
              "               ...     \n",
              "2338895     9583.333333\n",
              "2338900    11190.476190\n",
              "2338902    10383.333333\n",
              "2338903    13816.956522\n",
              "2338904    11201.562500\n",
              "2338907     9579.878049\n",
              "2338910    13231.674419\n",
              "2338913    10348.888889\n",
              "2338915    13500.000000\n",
              "2338916    10208.333333\n",
              "2338946    10904.761905\n",
              "2338947     7837.837838\n",
              "2338949     9903.846154\n",
              "2338952    11875.000000\n",
              "2338955     9959.428571\n",
              "2338956    12878.787879\n",
              "2338961    11042.424242\n",
              "2338963    11875.000000\n",
              "2338964    11190.476190\n",
              "2338966    13729.722222\n",
              "2338969    11850.000000\n",
              "2338982     8742.011834\n",
              "2338983    12433.333333\n",
              "2338984    12962.962963\n",
              "2338987    10454.545455\n",
              "2338988     6804.733728\n",
              "2338991    10000.000000\n",
              "2338996    11500.000000\n",
              "2338998     5793.750000\n",
              "2339001    11911.764706\n",
              "Name: prix au m2, Length: 22183, dtype: float64"
            ]
          },
          "metadata": {
            "tags": []
          },
          "execution_count": 53
        }
      ]
    },
    {
      "cell_type": "code",
      "metadata": {
        "id": "R6cubI_J_rdj",
        "colab_type": "code",
        "colab": {}
      },
      "source": [
        ""
      ],
      "execution_count": 0,
      "outputs": []
    }
  ]
}